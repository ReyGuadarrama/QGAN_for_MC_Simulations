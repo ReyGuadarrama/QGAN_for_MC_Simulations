{
 "cells": [
  {
   "cell_type": "markdown",
   "metadata": {},
   "source": [
    "### **Libraries**"
   ]
  },
  {
   "cell_type": "code",
   "execution_count": null,
   "metadata": {},
   "outputs": [],
   "source": [
    "# Library imports\n",
    "import random\n",
    "import numpy as np\n",
    "import matplotlib.pyplot as plt\n",
    "import matplotlib.colors as mcolors\n",
    "import pennylane as qml\n",
    "import h5py\n",
    "\n",
    "# Pytorch imports\n",
    "import torch\n",
    "import torch.nn as nn\n",
    "import torch.optim as optim\n",
    "from torch.utils.data import Dataset, DataLoader\n",
    "from python_package.metrics import FID\n",
    "from IPython.display import clear_output\n",
    "from itertools import product\n",
    "from python_package.qg_test import ModelTest\n",
    "\n",
    "\n",
    "\n",
    "# Set the random seed for reproducibility\n",
    "seed = 42\n",
    "torch.manual_seed(seed)\n",
    "np.random.seed(seed)\n",
    "random.seed(seed)"
   ]
  },
  {
   "cell_type": "markdown",
   "metadata": {},
   "source": [
    "# **Model specs**"
   ]
  },
  {
   "cell_type": "code",
   "execution_count": null,
   "metadata": {},
   "outputs": [],
   "source": [
    "test = ModelTest(\n",
    "    test_id = ,\n",
    "    num_qubits = ,\n",
    "    num_aux_qubits = ,\n",
    "    circuit_depth = ,\n",
    "    num_generators = ,\n",
    "    rotations = ,\n",
    "    generator_lr = ,\n",
    "    discriminator_lr = ,\n",
    "    batch_size = ,\n",
    "    num_samples = ,\n",
    "    num_epochs = ,\n",
    "    y = ,\n",
    "    channel = ,\n",
    "    optimizer= ,\n",
    "    resolution=,\n",
    "    cut_threshold=,\n",
    "    shift=,\n",
    ")\n",
    "\n",
    "test.display_specs()"
   ]
  },
  {
   "cell_type": "markdown",
   "metadata": {},
   "source": [
    "# **Sum pooled jets**"
   ]
  },
  {
   "cell_type": "code",
   "execution_count": null,
   "metadata": {},
   "outputs": [],
   "source": [
    "with h5py.File(\"/home/reyguadarrama/GSoC/data/gluon_data/gluon_ECAL_sumpool_8x8.h5\", 'r') as file:\n",
    "    all_gluon_8x8 = file['gluon_ECAL_sumpool_8x8'][:test.num_samples]"
   ]
  },
  {
   "cell_type": "code",
   "execution_count": null,
   "metadata": {},
   "outputs": [],
   "source": [
    "gluon_ECAL_overlay = np.mean(all_gluon_8x8, axis=0)\n",
    "total_energy = np.sum(all_gluon_8x8, axis=(1,2))\n",
    "particles_energy_deposits = all_gluon_8x8[all_gluon_8x8 > 0]"
   ]
  },
  {
   "cell_type": "code",
   "execution_count": null,
   "metadata": {},
   "outputs": [],
   "source": [
    "fig, axs = plt.subplots(1, 2, figsize=(11, 5))\n",
    "\n",
    "im1 = axs[0].imshow(all_gluon_8x8[0], cmap=\"Blues\", norm=mcolors.LogNorm())\n",
    "axs[0].set_title(\"ECAL jet\")\n",
    "\n",
    "axs[1].imshow(gluon_ECAL_overlay, cmap=\"Blues\", norm=mcolors.LogNorm())\n",
    "axs[1].set_title(\"ECAL overlay\")\n",
    "\n",
    "for ax in axs.flat:\n",
    "    ax.set(xlabel=\"i$\\phi '$\", ylabel=\"i$\\eta '$\")\n",
    "\n",
    "cbar = fig.colorbar(im1, ax=axs, orientation='vertical', fraction=0.02, pad=0.04)\n",
    "\n",
    "plt.show()"
   ]
  },
  {
   "cell_type": "code",
   "execution_count": null,
   "metadata": {},
   "outputs": [],
   "source": [
    "fig, axs = plt.subplots(1, 2, figsize=(15, 5))\n",
    "\n",
    "axs[0].hist(total_energy, bins=30, color=\"royalblue\")\n",
    "axs[0].set_title(\"ECAL Total Energy Deposits per jet\", fontsize=15)\n",
    "axs[0].set_xlabel(\"total energy\")\n",
    "axs[0].set_ylabel(\"jet count\")\n",
    "\n",
    "axs[1].hist(particles_energy_deposits, range=(0.1, 2), bins=15, color=\"royalblue\")\n",
    "axs[1].set_title(\"ECAL Particle Energy Deposits\", fontsize=15)\n",
    "axs[1].set_xlabel(\"particle energy\")\n",
    "axs[1].set_ylabel(\"jet particle\")\n",
    "\n",
    "plt.show()"
   ]
  },
  {
   "cell_type": "markdown",
   "metadata": {},
   "source": [
    "# **Training**"
   ]
  },
  {
   "cell_type": "code",
   "execution_count": null,
   "metadata": {},
   "outputs": [],
   "source": [
    "class QuarkDataset(Dataset):\n",
    "    def __init__(self, image):\n",
    "        self.data = torch.tensor(image, dtype=torch.float32) \n",
    "\n",
    "    def __len__(self):\n",
    "        return len(self.data)\n",
    "\n",
    "    def __getitem__(self, idx):\n",
    "        return self.data[idx]"
   ]
  },
  {
   "cell_type": "code",
   "execution_count": null,
   "metadata": {},
   "outputs": [],
   "source": [
    "# Create the data loader instance\n",
    "dataset = QuarkDataset(all_gluon_8x8.reshape(test.num_samples, 64))\n",
    "dataloader = DataLoader(dataset, batch_size=test.batch_size, shuffle=True)"
   ]
  },
  {
   "cell_type": "code",
   "execution_count": null,
   "metadata": {},
   "outputs": [],
   "source": [
    "class Discriminator(nn.Module):\n",
    "    \"\"\"Fully connected classical discriminator\"\"\"\n",
    "\n",
    "    def __init__(self):\n",
    "        super().__init__()\n",
    "\n",
    "        self.model = nn.Sequential(\n",
    "            # Inputs to first hidden layer (num_input_features -> 64)\n",
    "            nn.Linear(64, 128),\n",
    "            nn.ReLU(),\n",
    "            # First hidden layer (64 -> 16)\n",
    "            nn.Linear(128, 32),\n",
    "            nn.ReLU(),\n",
    "            # Second hidden layer (16 -> output)\n",
    "            nn.Linear(32, 1),\n",
    "            nn.Sigmoid(),\n",
    "        )\n",
    "\n",
    "    def forward(self, x):\n",
    "        return self.model(x)"
   ]
  },
  {
   "cell_type": "code",
   "execution_count": null,
   "metadata": {},
   "outputs": [],
   "source": [
    "dev = qml.device(\"default.qubit\", wires=test.num_qubits)\n",
    "device = torch.device(\"cuda:0\" if torch.cuda.is_available() else \"cpu\")\n",
    "\n",
    "@qml.qnode(dev, diff_method=\"backprop\")\n",
    "def quantum_circuit(noise, weights, rotations):\n",
    "    weights = weights.reshape(test.circuit_depth, test.num_qubits, len(rotations))\n",
    "\n",
    "    # Initialise latent vectors\n",
    "    for i in range(test.num_qubits):\n",
    "        qml.RY(noise[i], wires=i)\n",
    "\n",
    "    # Repeated layer\n",
    "    for i in range(test.circuit_depth):\n",
    "         # Parameterised layer\n",
    "        for q in range(test.num_qubits):\n",
    "            for idx, rotation in enumerate(rotations):\n",
    "                if rotation == \"X\":\n",
    "                    qml.RX(weights[i][q][idx], wires=q)\n",
    "                elif rotation == \"Y\":\n",
    "                    qml.RY(weights[i][q][idx], wires=q)\n",
    "                elif rotation == \"Z\":\n",
    "                    qml.RZ(weights[i][q][idx], wires=q)\n",
    "\n",
    "        # Control Z gates\n",
    "        for y in range(test.num_qubits - 1):\n",
    "            qml.CZ(wires=[y, y + 1])\n",
    "        qml.CZ(wires=[test.num_qubits - 1, 0])\n",
    "\n",
    "    return qml.probs(wires=list(range(test.num_qubits)))"
   ]
  },
  {
   "cell_type": "code",
   "execution_count": null,
   "metadata": {},
   "outputs": [],
   "source": [
    "weights = torch.rand(test.num_qubits*test.circuit_depth*len(test.rotations))\n",
    "noise = torch.rand(8, test.num_qubits, device=device) * np.pi / 2"
   ]
  },
  {
   "cell_type": "code",
   "execution_count": null,
   "metadata": {},
   "outputs": [],
   "source": [
    "qml.draw_mpl(quantum_circuit)(noise, weights, test.rotations)\n",
    "plt.show()"
   ]
  },
  {
   "cell_type": "code",
   "execution_count": null,
   "metadata": {},
   "outputs": [],
   "source": [
    "def partial_measure(noise, weights, rotations):\n",
    "    # Non-linear Transform\n",
    "    probs = quantum_circuit(noise, weights, rotations)\n",
    "    probsgiven0 = probs[: (2 ** (test.num_qubits - test.num_aux_qubits))]\n",
    "\n",
    "    # Post-Processing\n",
    "    probsgiven = (probsgiven0 / test.y) - test.shift\n",
    "    probsgiven[probsgiven < test.cut_threshold] = 0\n",
    "    return probsgiven"
   ]
  },
  {
   "cell_type": "code",
   "execution_count": null,
   "metadata": {},
   "outputs": [],
   "source": [
    "class PatchQuantumGenerator(nn.Module):\n",
    "    \"\"\"Quantum generator class for the patch method\"\"\"\n",
    "\n",
    "    def __init__(self, n_generators, q_delta=1):\n",
    "        \"\"\"\n",
    "        Args:\n",
    "            n_generators (int): Number of sub-generators to be used in the patch method.\n",
    "            q_delta (float, optional): Spread of the random distribution for parameter initialisation.\n",
    "        \"\"\"\n",
    "\n",
    "        super().__init__()\n",
    "\n",
    "\n",
    "        self.q_params = nn.ParameterList(\n",
    "            [\n",
    "                nn.Parameter(q_delta * torch.rand(test.num_qubits*test.circuit_depth*len(test.rotations)), requires_grad=True)\n",
    "                for _ in range(n_generators)\n",
    "            ]\n",
    "        )\n",
    "\n",
    "        self.n_generators = n_generators\n",
    "\n",
    "    def forward(self, x, rotations):\n",
    "        # Size of each sub-generator output\n",
    "        patch_size = 2 ** (test.num_qubits - test.num_aux_qubits)\n",
    "\n",
    "        # Create a Tensor to 'catch' a batch of images from the for loop. x.size(0) is the batch size.\n",
    "        images = torch.Tensor(x.size(0), 0).to(device)\n",
    "\n",
    "        # Iterate over all sub-generators\n",
    "        for params in self.q_params:\n",
    "\n",
    "            # Create a Tensor to 'catch' a batch of the patches from a single sub-generator\n",
    "            patches = torch.Tensor(0, patch_size).to(device)\n",
    "            for elem in x:\n",
    "                q_out = partial_measure(elem, params, rotations).float().unsqueeze(0)\n",
    "                patches = torch.cat((patches, q_out))\n",
    "\n",
    "            # Each batch of patches is concatenated with each other to create a batch of images\n",
    "            images = torch.cat((images, patches), 1)\n",
    "            \n",
    "\n",
    "\n",
    "        return images "
   ]
  },
  {
   "cell_type": "code",
   "execution_count": null,
   "metadata": {},
   "outputs": [],
   "source": [
    "def plot_training_progress():\n",
    "    # we don't plot if we don't have enough data\n",
    "    if len(rms_error) < 2:\n",
    "        return\n",
    "\n",
    "    clear_output(wait=True)\n",
    "    fig, (ax1, ax2, ax3) = plt.subplots(1, 3, figsize=(25, 6))\n",
    "\n",
    "    # Metric 1\n",
    "    ax1.set_title(\"RMSE\", fontsize=15)\n",
    "    ax1.plot(epochs, rms_error, color=\"royalblue\", linewidth=3)\n",
    "    ax1.set_xlabel(\"Epoch\")\n",
    "    ax1.set_yscale(\"log\")\n",
    "    ax1.grid()\n",
    "\n",
    "    # Metric 2\n",
    "    ax2.set_title(\"FID\", fontsize=15)\n",
    "    ax2.plot(epochs, fid, color=\"cornflowerblue\", linewidth=3)\n",
    "    ax2.set_xlabel(\"Epoch\")\n",
    "    ax2.set_yscale(\"log\")\n",
    "    ax2.grid()\n",
    "\n",
    "    # Generated distribution\n",
    "    im = ax3.imshow(gen_ECAL_overlay, cmap='Blues', aspect='auto', norm=mcolors.LogNorm())\n",
    "    ax3.set_title('Generated ECAL overlay', fontsize=15)\n",
    "\n",
    "    fig.colorbar(im, ax=ax3)\n",
    "\n",
    "    plt.suptitle(f\"Epoch {counter}\", fontsize=25)\n",
    "    plt.show()"
   ]
  },
  {
   "cell_type": "code",
   "execution_count": null,
   "metadata": {},
   "outputs": [],
   "source": [
    "discriminator = Discriminator().to(device)\n",
    "generator = PatchQuantumGenerator(test.num_generators).to(device)\n",
    "\n",
    "# Binary cross entropy\n",
    "criterion = nn.BCELoss()\n",
    "\n",
    "# Optimizers\n",
    "optD = optim.SGD(discriminator.parameters(), lr=test.discriminator_lr)\n",
    "optG = optim.SGD(generator.parameters(), lr=test.generator_lr)\n",
    "\n",
    "real_labels = torch.full((test.batch_size,), 1.0, dtype=torch.float, device=device)\n",
    "fake_labels = torch.full((test.batch_size,), 0.0, dtype=torch.float, device=device)\n",
    "\n",
    "# Iteration counter\n",
    "counter = 0\n",
    "\n",
    "# plot lists\n",
    "rms_error = []\n",
    "fid = []\n",
    "epochs = []\n",
    "disc_loss = []\n",
    "gen_loss = []\n"
   ]
  },
  {
   "cell_type": "code",
   "execution_count": null,
   "metadata": {},
   "outputs": [],
   "source": [
    "while counter < test.num_epochs:\n",
    "\n",
    "    noise = torch.rand(test.num_samples, test.num_qubits, device=device)* np.pi / 2\n",
    "    gen_ECAL_overlay = np.mean(generator(noise, test.rotations).detach().numpy().reshape(test.num_samples, 8, 8), axis=0)\n",
    "    fd = FID(gluon_ECAL_overlay, gen_ECAL_overlay)\n",
    "    rms = np.sqrt(np.mean((gluon_ECAL_overlay - gen_ECAL_overlay) ** 2))\n",
    "    fid.append(fd)\n",
    "    rms_error.append(rms)\n",
    "    epochs.append(counter)\n",
    "\n",
    "    plot_training_progress()\n",
    "    \n",
    "    for i, data in enumerate(dataloader):\n",
    "\n",
    "\n",
    "        # Data for training the discriminator\n",
    "        #data = data.reshape(-1, image_size * image_size)\n",
    "        real_data = data.to(device)\n",
    "\n",
    "        # Noise follwing a uniform distribution in range [0,pi/2)\n",
    "        noise = torch.rand(test.batch_size, test.num_qubits, device=device) * np.pi / 2\n",
    "        fake_data = generator(noise, test.rotations)\n",
    "\n",
    "        # Training the discriminator\n",
    "        discriminator.zero_grad()\n",
    "        outD_real = discriminator(real_data).view(-1)\n",
    "        outD_fake = discriminator(fake_data.detach()).view(-1)\n",
    "\n",
    "        errD_real = criterion(outD_real, real_labels)\n",
    "        errD_fake = criterion(outD_fake, fake_labels)\n",
    "        # Propagate gradients\n",
    "        errD_real.backward()\n",
    "        errD_fake.backward()\n",
    "\n",
    "        errD = errD_real + errD_fake\n",
    "        optD.step()\n",
    "\n",
    "        # Training the generator\n",
    "        generator.zero_grad()\n",
    "        outD_fake = discriminator(fake_data).view(-1)\n",
    "        errG = criterion(outD_fake, real_labels)\n",
    "        errG.backward()\n",
    "        optG.step()\n",
    "            \n",
    "    counter += 1\n",
    "    disc_loss.append(errD)\n",
    "    gen_loss.append(errG)\n",
    "    "
   ]
  },
  {
   "cell_type": "markdown",
   "metadata": {},
   "source": [
    "# **Results**"
   ]
  },
  {
   "cell_type": "code",
   "execution_count": null,
   "metadata": {
    "tags": [
     "hide-input"
    ]
   },
   "outputs": [],
   "source": [
    "fig, (ax1, ax2, ax3) = plt.subplots(1, 3, figsize=(25, 6))\n",
    "\n",
    "# Metric 1\n",
    "ax1.set_title(\"Relative Entropy\", fontsize=15)\n",
    "ax1.plot(epochs, rms_error, color=\"royalblue\", linewidth=3)\n",
    "ax1.set_xlabel(\"Epoch\")\n",
    "#ax1.set_yscale(\"log\")\n",
    "ax1.grid()\n",
    "\n",
    "# Metric 2\n",
    "ax2.set_title(\"FID\", fontsize=15)\n",
    "ax2.plot(epochs, fid, color=\"cornflowerblue\", linewidth=3)\n",
    "ax2.set_xlabel(\"Epoch\")\n",
    "#ax2.set_yscale(\"log\")\n",
    "ax2.grid()\n",
    "\n",
    "# Generated distribution\n",
    "im = ax3.imshow(gen_ECAL_overlay, cmap='Blues', aspect='auto', norm=mcolors.LogNorm())\n",
    "ax3.set_title('Generated ECAL overlay', fontsize=15)\n",
    "\n",
    "fig.colorbar(im, ax=ax3)\n",
    "\n",
    "plt.suptitle(f\"Epoch {counter}\", fontsize=25)\n",
    "plt.show()"
   ]
  },
  {
   "cell_type": "code",
   "execution_count": null,
   "metadata": {},
   "outputs": [],
   "source": [
    "generated_jets = generator(torch.rand(test.num_samples, test.num_qubits, device=device) * np.pi / 2, test.rotations).detach().numpy().reshape(test.num_samples, 8, 8)\n"
   ]
  },
  {
   "cell_type": "code",
   "execution_count": null,
   "metadata": {
    "tags": [
     "hide-input"
    ]
   },
   "outputs": [],
   "source": [
    "\n",
    "fig, axs = plt.subplots(2, 3, figsize=(13, 7.5)) \n",
    "\n",
    "for i, j in product(range(2), range(3)):\n",
    "    jet = np.random.randint(0, 300)\n",
    "    im1 = axs[i, j].imshow(generated_jets[jet], cmap=\"Blues\", norm=mcolors.LogNorm())\n",
    "    axs[i, j].set_xlabel(\"Energy Deposits\")\n",
    "    axs[i, j].set_ylabel(\"jet count\")\n",
    "\n",
    "for ax in axs.flat:\n",
    "    ax.set(xlabel=\"i$\\phi '$\", ylabel=\"i$\\eta '$\")\n",
    "\n",
    "cbar = fig.colorbar(im1, ax=axs, orientation='vertical', fraction=0.02, pad=0.04)\n",
    "\n",
    "plt.suptitle(f\"Generated Jets (ECAL)\", fontsize=20)\n",
    "plt.show()"
   ]
  },
  {
   "cell_type": "code",
   "execution_count": null,
   "metadata": {
    "tags": [
     "hide-input"
    ]
   },
   "outputs": [],
   "source": [
    "fig, axs = plt.subplots(2, 3, figsize=(13, 7.5)) \n",
    "\n",
    "for i, j in product(range(2), range(3)):\n",
    "    jet = np.random.randint(0, 300)\n",
    "    im1 = axs[i, j].imshow(all_gluon_8x8[jet], cmap=\"Blues\", norm=mcolors.LogNorm())\n",
    "    axs[i, j].set_xlabel(\"Energy Deposits\")\n",
    "    axs[i, j].set_ylabel(\"jet count\")\n",
    "\n",
    "for ax in axs.flat:\n",
    "    ax.set(xlabel=\"i$\\phi '$\", ylabel=\"i$\\eta '$\")\n",
    "\n",
    "cbar = fig.colorbar(im1, ax=axs, orientation='vertical', fraction=0.02, pad=0.04)\n",
    "\n",
    "plt.suptitle(f\"Real Jets (ECAL)\", fontsize=20)\n",
    "plt.show()"
   ]
  },
  {
   "cell_type": "code",
   "execution_count": null,
   "metadata": {
    "tags": [
     "hide-input"
    ]
   },
   "outputs": [],
   "source": [
    "fig, axs =  plt.subplots(1, 2, figsize=(15, 7)) \n",
    "n = np.random.randint(0, 500)\n",
    "\n",
    "im1 = axs[0].imshow(all_gluon_8x8[n], cmap=\"Blues\", norm=mcolors.LogNorm())\n",
    "axs[0].set_title(\"real ECAL jet\", fontsize=15)\n",
    "\n",
    "im2 = axs[1].imshow(generated_jets[n], cmap='Blues', norm=mcolors.LogNorm())\n",
    "axs[1].set_title(\"generated ECAL jet\", fontsize=15)\n",
    "\n",
    "for ax in axs.flat:\n",
    "    ax.set(xlabel=\"i$\\phi '$\", ylabel=\"i$\\eta '$\")\n",
    "\n",
    "cbar = fig.colorbar(im1, ax=axs, orientation='vertical', fraction=0.02, pad=0.04)"
   ]
  },
  {
   "cell_type": "code",
   "execution_count": null,
   "metadata": {
    "tags": [
     "hide-input"
    ]
   },
   "outputs": [],
   "source": [
    "gen_jets_image = np.mean(generated_jets, axis=0)\n",
    "real_jets_image = np.mean(all_gluon_8x8, axis=0)\n",
    "\n",
    "fig, axs =  plt.subplots(1, 2, figsize=(15, 7)) \n",
    "\n",
    "im1 = axs[0].imshow(real_jets_image, cmap=\"Blues\", norm=mcolors.LogNorm())\n",
    "axs[0].set_title(\"real ECAL overlay\", fontsize=15)\n",
    "\n",
    "im2 = axs[1].imshow(gen_jets_image, cmap='Blues', norm=mcolors.LogNorm())\n",
    "axs[1].set_title(\"generated ECAL overlay\", fontsize=15)\n",
    "\n",
    "for ax in axs.flat:\n",
    "    ax.set(xlabel=\"i$\\phi '$\", ylabel=\"i$\\eta '$\")\n",
    "\n",
    "cbar = fig.colorbar(im1, ax=axs, orientation='vertical', fraction=0.02, pad=0.04)"
   ]
  },
  {
   "cell_type": "code",
   "execution_count": null,
   "metadata": {
    "tags": [
     "hide-input"
    ]
   },
   "outputs": [],
   "source": [
    "gen_total_energy = np.sum(generated_jets, axis=(1,2))\n"
   ]
  },
  {
   "cell_type": "code",
   "execution_count": null,
   "metadata": {
    "tags": [
     "hide-input"
    ]
   },
   "outputs": [],
   "source": [
    "plt.hist(gen_total_energy, range=(0, 2), bins=30, color=\"royalblue\", label=\"generated\", histtype=\"step\", linewidth=2)\n",
    "plt.hist(gen_total_energy, range=(0, 2), bins=30, color=\"royalblue\", alpha=0.5)\n",
    "plt.hist(total_energy, range=(0, 2), bins=30, color=\"plum\", label=\"real\", histtype=\"step\", linewidth=2)\n",
    "plt.hist(total_energy, range=(0, 2), bins=30, color=\"plum\", alpha=0.5)\n",
    "plt.title(\"Total ECAL Energy deposits per jet\", fontsize=15)\n",
    "plt.xlabel(\"total energy\")\n",
    "plt.ylabel(\"jet count\")\n",
    "plt.legend()\n",
    "plt.show()"
   ]
  },
  {
   "cell_type": "code",
   "execution_count": null,
   "metadata": {
    "tags": [
     "hide-input"
    ]
   },
   "outputs": [],
   "source": [
    "gen_particles_energy_deposits = generated_jets[generated_jets > 0]\n",
    "\n",
    "plt.hist(gen_particles_energy_deposits, range=(0.002, 0.05), bins=30, color=\"royalblue\", label=\"generated\", histtype=\"step\", linewidth=2)\n",
    "plt.hist(gen_particles_energy_deposits, range=(0.002, 0.05), bins=30, color=\"royalblue\", alpha=0.5)\n",
    "plt.hist(particles_energy_deposits, range=(0, 0.05), bins=30, color=\"plum\", label=\"real\", histtype=\"step\", linewidth=2)\n",
    "plt.hist(particles_energy_deposits, range=(0, 0.05), bins=30, color=\"plum\", alpha=0.5)\n",
    "plt.title(\"Particle ECAL Energy deposits\", fontsize=15)\n",
    "plt.xlabel(\"total energy\")\n",
    "plt.ylabel(\"particle count\")\n",
    "plt.legend()\n",
    "plt.show()"
   ]
  },
  {
   "cell_type": "markdown",
   "metadata": {},
   "source": [
    "# **Save Results**"
   ]
  },
  {
   "cell_type": "code",
   "execution_count": null,
   "metadata": {},
   "outputs": [],
   "source": [
    "metrics = {\n",
    "    'FID': \"{:.2e}\".format(fid[-1]),\n",
    "    'RMSE': \"{:.2e}\".format(rms_error[-1]),\n",
    "    'discriminator loss': \"{:.2e}\".format(disc_loss[-1]),\n",
    "    'generator loss': \"{:.2e}\".format(gen_loss[-1]),\n",
    "    'notes': \"analysis pending\"\n",
    "}\n",
    "\n",
    "test.save_results_to_json(metrics=metrics)\n",
    "test.save_trained_params(generator=generator)"
   ]
  },
  {
   "cell_type": "code",
   "execution_count": null,
   "metadata": {},
   "outputs": [],
   "source": [
    "%run summary.py"
   ]
  }
 ],
 "metadata": {
  "kernelspec": {
   "display_name": "GSoC_env",
   "language": "python",
   "name": "python3"
  },
  "language_info": {
   "codemirror_mode": {
    "name": "ipython",
    "version": 3
   },
   "file_extension": ".py",
   "mimetype": "text/x-python",
   "name": "python",
   "nbconvert_exporter": "python",
   "pygments_lexer": "ipython3",
   "version": "3.10.12"
  }
 },
 "nbformat": 4,
 "nbformat_minor": 2
}
